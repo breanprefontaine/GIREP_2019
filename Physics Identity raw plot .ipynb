{
 "cells": [
  {
   "cell_type": "code",
   "execution_count": 1,
   "metadata": {},
   "outputs": [],
   "source": [
    "#Identity code raw counts for physics cop\n",
    "\n",
    "%matplotlib inline\n",
    "import numpy as np\n",
    "import matplotlib.pyplot as plt\n",
    "\n",
    "\n",
    "# Different Styles that can be used!\n",
    "#plt.style.use('fivethirtyeight')\n",
    "#plt.style.use('seaborn-darkgrid')\n",
    "#plt.style.use('seaborn-whitegrid')\n",
    "#plt.style.use('ggplot')\n",
    "#plt.style.use('bmh')\n",
    "\n"
   ]
  },
  {
   "cell_type": "code",
   "execution_count": 2,
   "metadata": {},
   "outputs": [
    {
     "data": {
      "image/png": "[encoded data removed]",
      "text/plain": [
       "<Figure size 432x288 with 1 Axes>"
      ]
     },
     "metadata": {
      "needs_background": "light"
     },
     "output_type": "display_data"
    }
   ],
   "source": [
    "N = 5\n",
    "sorcha_means = (2, 2, 9, 23, 0)\n",
    "#men_std = (2, 3, 4, 1, 2)\n",
    "\n",
    "ind = np.arange(N) \n",
    "#ind = 1, 3, 5, 7, 9 # the x locations for the groups\n",
    "\n",
    "width = 0.4      # the width of the bars\n",
    "\n",
    "fig, ax = plt.subplots()\n",
    "rects1 = ax.bar(ind, sorcha_means, width, color='lightseagreen', label = \"Eoin\")\n",
    "\n",
    "eoin_means = (13, 25, 5, 14, 6)\n",
    "#women_std = (3, 5, 2, 3, 3)\n",
    "rects2 = ax.bar(ind + width, eoin_means, width, color='y', label = 'Sorcha')\n",
    "\n",
    "# add some text for labels, title and axes ticks\n",
    "ax.set_ylabel('Frequency of Codes', fontsize = 12)\n",
    "#fig.suptitle('Raw Count of Identity Codes for Physics CoP', fontsize=15)\n",
    "ax.set_title('Raw Count of Identity Codes for Physics CoP', fontsize=15)\n",
    "ax.set_xticks(ind + width /2 )\n",
    "ax.set_xticklabels(('Negotiated \\n Experiences', 'Community \\n Membership', 'Nexus of Multi- \\n membership',\n",
    "                    'Learning \\n Trajectories', 'Relationship \\n between Local \\n and Gobal'), fontsize = 8)\n",
    "\n",
    "ax.set_ylim(top=30)\n",
    "#ax.set_xlim(0,5)\n",
    "\n",
    "legend = ax.legend()\n",
    "\n",
    "# Put a nicer background color on the legend.\n",
    "legend.get_frame().set_facecolor('white')\n",
    "\n",
    "\n",
    "def autolabel(rects):\n",
    "    \"\"\"\n",
    "    Attach a text label above each bar displaying its height\n",
    "    \"\"\"\n",
    "    for rect in rects:\n",
    "        height = rect.get_height()\n",
    "        ax.text(rect.get_x() + rect.get_width()/2., 1.05*height,\n",
    "                '%d' % int(height),\n",
    "                ha='center', va='bottom')\n",
    "\n",
    "autolabel(rects1)\n",
    "autolabel(rects2)\n",
    "\n",
    "\n",
    "plt.show()"
   ]
  },
  {
   "cell_type": "code",
   "execution_count": 2,
   "metadata": {},
   "outputs": [
    {
     "ename": "NameError",
     "evalue": "name 'np' is not defined",
     "output_type": "error",
     "traceback": [
      "\u001b[1;31m---------------------------------------------------------------------------\u001b[0m",
      "\u001b[1;31mNameError\u001b[0m                                 Traceback (most recent call last)",
      "\u001b[1;32m<ipython-input-2-f1e69d8f1729>\u001b[0m in \u001b[0;36m<module>\u001b[1;34m\u001b[0m\n\u001b[0;32m      2\u001b[0m \u001b[1;33m\u001b[0m\u001b[0m\n\u001b[0;32m      3\u001b[0m \u001b[0mN\u001b[0m \u001b[1;33m=\u001b[0m \u001b[1;36m5\u001b[0m\u001b[1;33m\u001b[0m\u001b[1;33m\u001b[0m\u001b[0m\n\u001b[1;32m----> 4\u001b[1;33m \u001b[0mind\u001b[0m \u001b[1;33m=\u001b[0m \u001b[0mnp\u001b[0m\u001b[1;33m.\u001b[0m\u001b[0marange\u001b[0m\u001b[1;33m(\u001b[0m\u001b[0mN\u001b[0m\u001b[1;33m)\u001b[0m  \u001b[1;31m# the x locations for the groups\u001b[0m\u001b[1;33m\u001b[0m\u001b[1;33m\u001b[0m\u001b[0m\n\u001b[0m\u001b[0;32m      5\u001b[0m \u001b[0mwidth\u001b[0m \u001b[1;33m=\u001b[0m \u001b[1;36m0.4\u001b[0m       \u001b[1;31m# the width of the bars\u001b[0m\u001b[1;33m\u001b[0m\u001b[1;33m\u001b[0m\u001b[0m\n\u001b[0;32m      6\u001b[0m \u001b[1;33m\u001b[0m\u001b[0m\n",
      "\u001b[1;31mNameError\u001b[0m: name 'np' is not defined"
     ]
    }
   ],
   "source": [
    "#Identity code raw counts for PISEC cop\n",
    "\n",
    "N = 5\n",
    "ind = np.arange(N)  # the x locations for the groups\n",
    "width = 0.4       # the width of the bars\n",
    "\n",
    "sorcha2_means = (10, 8, 5, 0, 6)\n",
    "eoin2_means = (33, 14, 12, 0, 0)\n",
    "\n",
    "fig, ax = plt.subplots()\n",
    "rects1_2 = ax.bar(ind, sorcha2_means, width, color='salmon', label = 'Sorcha')\n",
    "\n",
    "\n",
    "rects2_2 = ax.bar(ind + width, eoin2_means, width, color='y', label = 'Eoin')\n",
    "\n",
    "# add some text for labels, title and axes ticks\n",
    "ax.set_ylabel('Frequency of Codes', fontsize = 12)\n",
    "fig.suptitle('Raw Count of Identity Codes for PISEC CoP', fontsize=15)\n",
    "ax.set_xticks(ind + width / 2)\n",
    "ax.set_xticklabels(('NE', 'CM', 'NM', 'LT', 'RbLG'))\n",
    "\n",
    "ax.set_ylim(top=40)\n",
    "\n",
    "legend = ax.legend()\n",
    "\n",
    "# Put a nicer background color on the legend.\n",
    "legend.get_frame().set_facecolor('white')\n",
    "\n",
    "\n",
    "def autolabel(rects):\n",
    "    \"\"\"\n",
    "    Attach a text label above each bar displaying its height\n",
    "    \"\"\"\n",
    "    for rect in rects:\n",
    "        height = rect.get_height()\n",
    "        ax.text(rect.get_x() + rect.get_width()/2., 1.05*height,\n",
    "                '%d' % int(height),\n",
    "                ha='center', va='bottom')\n",
    "\n",
    "autolabel(rects1_2)\n",
    "autolabel(rects2_2)\n",
    "\n",
    "\n",
    "plt.show()\n"
   ]
  },
  {
   "cell_type": "code",
   "execution_count": null,
   "metadata": {},
   "outputs": [],
   "source": []
  },
  {
   "cell_type": "code",
   "execution_count": null,
   "metadata": {},
   "outputs": [],
   "source": []
  },
  {
   "cell_type": "code",
   "execution_count": null,
   "metadata": {},
   "outputs": [],
   "source": []
  }
 ],
 "metadata": {
  "kernelspec": {
   "display_name": "Python 3",
   "language": "python",
   "name": "python3"
  },
  "language_info": {
   "codemirror_mode": {
    "name": "ipython",
    "version": 3
   },
   "file_extension": ".py",
   "mimetype": "text/x-python",
   "name": "python",
   "nbconvert_exporter": "python",
   "pygments_lexer": "ipython3",
   "version": "3.7.2"
  }
 },
 "nbformat": 4,
 "nbformat_minor": 2
}
